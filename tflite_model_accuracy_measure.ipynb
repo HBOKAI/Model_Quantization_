{
 "cells": [
  {
   "cell_type": "code",
   "execution_count": 7,
   "metadata": {},
   "outputs": [],
   "source": [
    "import tensorflow as tf \n",
    "import numpy as np\n",
    "import cv2\n",
    "import time\n",
    "from tqdm import tqdm"
   ]
  },
  {
   "cell_type": "code",
   "execution_count": 8,
   "metadata": {},
   "outputs": [],
   "source": [
    "(train_images, train_labels), (test_images, test_labels) = tf.keras.datasets.mnist.load_data()\n",
    "train_images = np.pad(train_images,[[0,0],[2,2],[2,2]],\"constant\",constant_values=0)\n",
    "train_images = np.expand_dims(train_images,-1)\n",
    "train_images = train_images.astype(np.float32) / 255.0\n",
    "# print(train_images.dtype)\n",
    "\n",
    "test_images = np.pad(test_images,[[0,0],[2,2],[2,2]],\"constant\",constant_values=0)\n",
    "test_images = np.expand_dims(test_images,-1)\n",
    "test_images = test_images.astype(np.float32) / 255.0\n",
    "# print(train_images.dtype)"
   ]
  },
  {
   "cell_type": "markdown",
   "metadata": {},
   "source": [
    "各模型準確度評估"
   ]
  },
  {
   "cell_type": "code",
   "execution_count": 9,
   "metadata": {},
   "outputs": [],
   "source": [
    "\n",
    "def call(interpreter_path,img):\n",
    "    #加载模型并分配张量\n",
    "    interpreter = tf.lite.Interpreter(model_path=interpreter_path)\n",
    "    interpreter.allocate_tensors()\n",
    "\n",
    "    #获得输入输出张量.\n",
    "    input_details = interpreter.get_input_details()\n",
    "    output_details = interpreter.get_output_details()\n",
    "    # print(output_details)\n",
    "    index = input_details[0]['index']\n",
    "    shape = input_details[0]['shape']\n",
    "    # print(\"當前輸入圖片格式: \",img.shape)\n",
    "    # print(\"當前輸入圖片所需格式: \",shape)\n",
    "    interpreter.set_tensor(index, img.reshape(shape).astype(\"float32\"))\n",
    "    interpreter.invoke()\n",
    "    if output_details[0]['shape'].shape==(2,) and output_details[0]['shape'][1]==10:\n",
    "        predict = interpreter.get_tensor(output_details[0]['index'])\n",
    "        try:\n",
    "            params = interpreter.get_tensor(output_details[1]['index'])\n",
    "            return predict,params\n",
    "        except IndexError:\n",
    "            return predict,0\n",
    "    else:\n",
    "        predict = interpreter.get_tensor(output_details[1]['index'])\n",
    "        params = interpreter.get_tensor(output_details[0]['index'])\n",
    "        return predict,params\n",
    "\n",
    "def model_call(folder_address,img):\n",
    "    start_time=np.zeros(7)\n",
    "    end_time=np.zeros(7)\n",
    "    for i in range(1,7):\n",
    "        # print(f\"第{i}層\")\n",
    "        if i == 1:\n",
    "            start_time[i] = time.perf_counter()\n",
    "            predict, params = call(f\"{folder_address}/Exit_Model_{i}.tflite\", img)\n",
    "            end_time[i] = time.perf_counter()\n",
    "            \n",
    "        else:\n",
    "            start_time[i] = time.perf_counter()\n",
    "            predict, params = call(f\"{folder_address}/Exit_Model_{i}.tflite\", params)\n",
    "            end_time[i] = time.perf_counter()\n",
    "            \n",
    "        max_softmax = np.max(predict,-1)\n",
    "        predict_num = np.argmax(predict,-1)\n",
    "        # print(f\"最大softmax: {max_softmax},  此層運算時間: {(end_time[i]-start_time[i])*1000}ms\")\n",
    "        # print(f\"預測數字: {predict_num}\")\n",
    "        if(max_softmax>=0.9):\n",
    "            break      \n",
    "    # print(f\"總運算時間: {(end_time.sum()-start_time.sum())*1000}ms\")\n",
    "    return predict_num\n",
    "\n",
    "def evaluate(folder_address,images,labels):\n",
    "    accuracy_count = 0\n",
    "    image_count = images.shape[0]\n",
    "    for i in tqdm(range(image_count)):\n",
    "        predict_num = model_call(folder_address,images[i])\n",
    "        if predict_num == labels[i]:\n",
    "            accuracy_count += 1\n",
    "    return accuracy_count/image_count"
   ]
  },
  {
   "cell_type": "code",
   "execution_count": 10,
   "metadata": {},
   "outputs": [
    {
     "name": "stderr",
     "output_type": "stream",
     "text": [
      "100%|██████████| 10000/10000 [00:08<00:00, 1151.45it/s]\n",
      "100%|██████████| 10000/10000 [00:14<00:00, 697.38it/s]\n",
      "100%|██████████| 10000/10000 [00:08<00:00, 1149.64it/s]\n",
      "100%|██████████| 10000/10000 [00:26<00:00, 381.04it/s]\n"
     ]
    }
   ],
   "source": [
    "\n",
    "initial_accuracy = evaluate(\"./TFLITE_Models/Initial_Models\",test_images,test_labels)\n",
    "dynamic_accuracy = evaluate(\"./TFLITE_Models/Dynamic_Models\",test_images,test_labels)\n",
    "float16_accuracy = evaluate(\"./TFLITE_Models/Float16_Models\",test_images,test_labels)\n",
    "partial_uint8_accuracy = evaluate(\"./TFLITE_Models/Partial_Uint8_Models\",test_images,test_labels)"
   ]
  },
  {
   "attachments": {},
   "cell_type": "markdown",
   "metadata": {},
   "source": [
    "全整數模型準確度評估"
   ]
  },
  {
   "cell_type": "code",
   "execution_count": 11,
   "metadata": {},
   "outputs": [
    {
     "name": "stderr",
     "output_type": "stream",
     "text": [
      "100%|██████████| 10000/10000 [00:14<00:00, 680.49it/s]\n"
     ]
    }
   ],
   "source": [
    "(train_images, train_labels), (test_images, test_labels) = tf.keras.datasets.mnist.load_data()\n",
    "train_images = np.pad(train_images,[[0,0],[2,2],[2,2]],\"constant\",constant_values=0)\n",
    "train_images = np.expand_dims(train_images,-1)\n",
    "# train_images = train_images.astype(np.float32) / 255.0\n",
    "# print(train_images.dtype)\n",
    "\n",
    "test_images = np.pad(test_images,[[0,0],[2,2],[2,2]],\"constant\",constant_values=0)\n",
    "test_images = np.expand_dims(test_images,-1)\n",
    "# test_images = test_images.astype(np.float32) / 255.0\n",
    "\n",
    "def call(interpreter_path,img):\n",
    "    #加载模型并分配张量\n",
    "    interpreter = tf.lite.Interpreter(model_path=interpreter_path)\n",
    "    interpreter.allocate_tensors()\n",
    "\n",
    "    #获得输入输出张量.\n",
    "    input_details = interpreter.get_input_details()\n",
    "    output_details = interpreter.get_output_details()\n",
    "    # print(output_details)\n",
    "    index = input_details[0]['index']\n",
    "    shape = input_details[0]['shape']\n",
    "    # print(\"當前輸入圖片格式: \",img.shape)\n",
    "    # print(\"當前輸入圖片所需格式: \",shape)\n",
    "    interpreter.set_tensor(index, img.reshape(shape).astype(\"uint8\"))\n",
    "    interpreter.invoke()\n",
    "    if output_details[0]['shape'].shape==(2,) and output_details[0]['shape'][1]==10:\n",
    "        predict = interpreter.get_tensor(output_details[0]['index'])\n",
    "        try:\n",
    "            params = interpreter.get_tensor(output_details[1]['index'])\n",
    "            return predict,params\n",
    "        except IndexError:\n",
    "            return predict,0\n",
    "    else:\n",
    "        predict = interpreter.get_tensor(output_details[1]['index'])\n",
    "        params = interpreter.get_tensor(output_details[0]['index'])\n",
    "        return predict,params\n",
    "\n",
    "def model_call(folder_address,img):\n",
    "    start_time=np.zeros(7)\n",
    "    end_time=np.zeros(7)\n",
    "    for i in range(1,7):\n",
    "        # print(f\"第{i}層\")\n",
    "        if i == 1:\n",
    "            start_time[i] = time.perf_counter()\n",
    "            predict, params = call(f\"{folder_address}/Exit_Model_{i}.tflite\", img)\n",
    "            end_time[i] = time.perf_counter()\n",
    "            \n",
    "        else:\n",
    "            start_time[i] = time.perf_counter()\n",
    "            predict, params = call(f\"{folder_address}/Exit_Model_{i}.tflite\", params)\n",
    "            end_time[i] = time.perf_counter()\n",
    "            \n",
    "        max_softmax = np.max(predict,-1)\n",
    "        predict_num = np.argmax(predict,-1)\n",
    "        # print(f\"最大softmax: {max_softmax},  此層運算時間: {(end_time[i]-start_time[i])*1000}ms\")\n",
    "        # print(f\"預測數字: {predict_num}\")\n",
    "        if(max_softmax>=0.9):\n",
    "            break      \n",
    "    # print(f\"總運算時間: {(end_time.sum()-start_time.sum())*1000}ms\")\n",
    "    return predict_num\n",
    "\n",
    "def evaluate(folder_address,images,labels):\n",
    "    accuracy_count = 0\n",
    "    image_count = images.shape[0]\n",
    "    for i in tqdm(range(image_count)):\n",
    "        predict_num = model_call(folder_address,images[i])\n",
    "        if predict_num == labels[i]:\n",
    "            accuracy_count += 1\n",
    "    return accuracy_count/image_count\n",
    "full_uint8_accuracy = evaluate(\"./TFLITE_Models/Full_Uint8_Models\",test_images,test_labels)"
   ]
  },
  {
   "cell_type": "code",
   "execution_count": 12,
   "metadata": {},
   "outputs": [
    {
     "name": "stdout",
     "output_type": "stream",
     "text": [
      "TFLITE_INITIAL_ACCURACY: 97.86%\n",
      "TFLITE_DYNAMIC_ACCURACY: 97.89%\n",
      "TFLITE_FLOAT16_ACCURACY: 97.88%\n",
      "TFLITE_PARTIAL_UINT8_ACCURACY: 97.88%\n",
      "TFLITE_FULL_UINT8_ACCURACY: 88.97%\n"
     ]
    }
   ],
   "source": [
    "print(f\"TFLITE_INITIAL_ACCURACY: {initial_accuracy*100}%\")\n",
    "print(f\"TFLITE_DYNAMIC_ACCURACY: {dynamic_accuracy*100}%\")\n",
    "print(f\"TFLITE_FLOAT16_ACCURACY: {float16_accuracy*100}%\")\n",
    "print(f\"TFLITE_PARTIAL_UINT8_ACCURACY: {partial_uint8_accuracy*100}%\")\n",
    "print(f\"TFLITE_FULL_UINT8_ACCURACY: {full_uint8_accuracy*100}%\")"
   ]
  },
  {
   "cell_type": "code",
   "execution_count": 29,
   "metadata": {},
   "outputs": [
    {
     "data": {
      "image/png": "[encoded data removed]",
      "text/plain": [
       "<Figure size 640x480 with 1 Axes>"
      ]
     },
     "metadata": {},
     "output_type": "display_data"
    }
   ],
   "source": [
    "import matplotlib.pyplot as plt\n",
    "x=[1,2,3,4,5]\n",
    "y=[4.9965,5.6579,1.5742,3.3889,3.4757]\n",
    "plt.bar(x,y,tick_label=[\"Float32\",\"Float16\",\"Full Uint8\",\"Partial Uint8\",\"Dynamic\"])\n",
    "plt.xlabel(\"Quantization Methods\")\n",
    "plt.ylabel(\"Time(ms)\")  \n",
    "plt.title(\"Time using of Each Quantization Methods\")\n",
    "for i in range(len(x)):\n",
    "    plt.text(x[i],y[i],f\"{y[i]}ms\",ha=\"center\",va=\"bottom\")\n",
    "plt.show()\n"
   ]
  }
 ],
 "metadata": {
  "language_info": {
   "name": "python"
  },
  "orig_nbformat": 4
 },
 "nbformat": 4,
 "nbformat_minor": 2
}
