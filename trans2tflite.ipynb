{
 "cells": [
  {
   "cell_type": "code",
   "execution_count": 1,
   "metadata": {},
   "outputs": [
    {
     "name": "stdout",
     "output_type": "stream",
     "text": [
      "TensorFlow version:  2.10.1\n"
     ]
    }
   ],
   "source": [
    "import tensorflow as tf\n",
    "import numpy as np\n",
    "import time\n",
    "from pathlib import Path\n",
    "print(\"TensorFlow version: \", tf.__version__)"
   ]
  },
  {
   "attachments": {},
   "cell_type": "markdown",
   "metadata": {},
   "source": [
    "轉成 tflite 無量化"
   ]
  },
  {
   "cell_type": "code",
   "execution_count": 2,
   "metadata": {},
   "outputs": [
    {
     "name": "stdout",
     "output_type": "stream",
     "text": [
      "WARNING:tensorflow:No training configuration found in the save file, so the model was *not* compiled. Compile it manually.\n"
     ]
    },
    {
     "name": "stderr",
     "output_type": "stream",
     "text": [
      "WARNING:absl:Function `_wrapped_model` contains input name(s) Input_img with unsupported characters which will be renamed to input_img in the SavedModel.\n",
      "WARNING:absl:Found untraced functions such as _jit_compiled_convolution_op while saving (showing 1 of 1). These functions will not be directly callable after loading.\n"
     ]
    },
    {
     "name": "stdout",
     "output_type": "stream",
     "text": [
      "INFO:tensorflow:Assets written to: C:\\Users\\zz408\\AppData\\Local\\Temp\\tmp92o21ny5\\assets\n"
     ]
    },
    {
     "name": "stderr",
     "output_type": "stream",
     "text": [
      "INFO:tensorflow:Assets written to: C:\\Users\\zz408\\AppData\\Local\\Temp\\tmp92o21ny5\\assets\n"
     ]
    },
    {
     "name": "stdout",
     "output_type": "stream",
     "text": [
      "model1 input:  <class 'numpy.float32'>\n",
      "model1 output:  <class 'numpy.float32'>\n",
      "WARNING:tensorflow:No training configuration found in the save file, so the model was *not* compiled. Compile it manually.\n"
     ]
    },
    {
     "name": "stderr",
     "output_type": "stream",
     "text": [
      "WARNING:tensorflow:No training configuration found in the save file, so the model was *not* compiled. Compile it manually.\n",
      "WARNING:absl:Function `_wrapped_model` contains input name(s) C1_params with unsupported characters which will be renamed to c1_params in the SavedModel.\n"
     ]
    },
    {
     "name": "stdout",
     "output_type": "stream",
     "text": [
      "INFO:tensorflow:Assets written to: C:\\Users\\zz408\\AppData\\Local\\Temp\\tmpfhxiu6ub\\assets\n"
     ]
    },
    {
     "name": "stderr",
     "output_type": "stream",
     "text": [
      "INFO:tensorflow:Assets written to: C:\\Users\\zz408\\AppData\\Local\\Temp\\tmpfhxiu6ub\\assets\n"
     ]
    },
    {
     "name": "stdout",
     "output_type": "stream",
     "text": [
      "model2 input:  <class 'numpy.float32'>\n",
      "model2 output:  <class 'numpy.float32'>\n",
      "WARNING:tensorflow:No training configuration found in the save file, so the model was *not* compiled. Compile it manually.\n"
     ]
    },
    {
     "name": "stderr",
     "output_type": "stream",
     "text": [
      "WARNING:tensorflow:No training configuration found in the save file, so the model was *not* compiled. Compile it manually.\n",
      "WARNING:absl:Function `_wrapped_model` contains input name(s) S2_params with unsupported characters which will be renamed to s2_params in the SavedModel.\n",
      "WARNING:absl:Found untraced functions such as _jit_compiled_convolution_op while saving (showing 1 of 1). These functions will not be directly callable after loading.\n"
     ]
    },
    {
     "name": "stdout",
     "output_type": "stream",
     "text": [
      "INFO:tensorflow:Assets written to: C:\\Users\\zz408\\AppData\\Local\\Temp\\tmpm589wlpx\\assets\n"
     ]
    },
    {
     "name": "stderr",
     "output_type": "stream",
     "text": [
      "INFO:tensorflow:Assets written to: C:\\Users\\zz408\\AppData\\Local\\Temp\\tmpm589wlpx\\assets\n"
     ]
    },
    {
     "name": "stdout",
     "output_type": "stream",
     "text": [
      "model3 input:  <class 'numpy.float32'>\n",
      "model3 output:  <class 'numpy.float32'>\n",
      "WARNING:tensorflow:No training configuration found in the save file, so the model was *not* compiled. Compile it manually.\n"
     ]
    },
    {
     "name": "stderr",
     "output_type": "stream",
     "text": [
      "WARNING:tensorflow:No training configuration found in the save file, so the model was *not* compiled. Compile it manually.\n",
      "WARNING:absl:Function `_wrapped_model` contains input name(s) C3_params with unsupported characters which will be renamed to c3_params in the SavedModel.\n"
     ]
    },
    {
     "name": "stdout",
     "output_type": "stream",
     "text": [
      "INFO:tensorflow:Assets written to: C:\\Users\\zz408\\AppData\\Local\\Temp\\tmpwp5ho089\\assets\n"
     ]
    },
    {
     "name": "stderr",
     "output_type": "stream",
     "text": [
      "INFO:tensorflow:Assets written to: C:\\Users\\zz408\\AppData\\Local\\Temp\\tmpwp5ho089\\assets\n"
     ]
    },
    {
     "name": "stdout",
     "output_type": "stream",
     "text": [
      "model4 input:  <class 'numpy.float32'>\n",
      "model4 output:  <class 'numpy.float32'>\n",
      "WARNING:tensorflow:No training configuration found in the save file, so the model was *not* compiled. Compile it manually.\n"
     ]
    },
    {
     "name": "stderr",
     "output_type": "stream",
     "text": [
      "WARNING:tensorflow:No training configuration found in the save file, so the model was *not* compiled. Compile it manually.\n",
      "WARNING:absl:Function `_wrapped_model` contains input name(s) S4_params with unsupported characters which will be renamed to s4_params in the SavedModel.\n"
     ]
    },
    {
     "name": "stdout",
     "output_type": "stream",
     "text": [
      "INFO:tensorflow:Assets written to: C:\\Users\\zz408\\AppData\\Local\\Temp\\tmpmxx2j9mw\\assets\n"
     ]
    },
    {
     "name": "stderr",
     "output_type": "stream",
     "text": [
      "INFO:tensorflow:Assets written to: C:\\Users\\zz408\\AppData\\Local\\Temp\\tmpmxx2j9mw\\assets\n"
     ]
    },
    {
     "name": "stdout",
     "output_type": "stream",
     "text": [
      "model5 input:  <class 'numpy.float32'>\n",
      "model5 output:  <class 'numpy.float32'>\n",
      "WARNING:tensorflow:No training configuration found in the save file, so the model was *not* compiled. Compile it manually.\n"
     ]
    },
    {
     "name": "stderr",
     "output_type": "stream",
     "text": [
      "WARNING:tensorflow:No training configuration found in the save file, so the model was *not* compiled. Compile it manually.\n",
      "WARNING:absl:Function `_wrapped_model` contains input name(s) F5_params with unsupported characters which will be renamed to f5_params in the SavedModel.\n"
     ]
    },
    {
     "name": "stdout",
     "output_type": "stream",
     "text": [
      "INFO:tensorflow:Assets written to: C:\\Users\\zz408\\AppData\\Local\\Temp\\tmph7clxs9m\\assets\n"
     ]
    },
    {
     "name": "stderr",
     "output_type": "stream",
     "text": [
      "INFO:tensorflow:Assets written to: C:\\Users\\zz408\\AppData\\Local\\Temp\\tmph7clxs9m\\assets\n"
     ]
    },
    {
     "name": "stdout",
     "output_type": "stream",
     "text": [
      "model6 input:  <class 'numpy.float32'>\n",
      "model6 output:  <class 'numpy.float32'>\n"
     ]
    }
   ],
   "source": [
    "for i in range(1,7):\n",
    "    model = tf.keras.models.load_model(f\"./Models/Exit_Model_{i}.h5\")\n",
    "    converter = tf.lite.TFLiteConverter.from_keras_model(model)\n",
    "    tflite_model = converter.convert()\n",
    "    # open(f\"./TFLITE_Models/Initial_Models/Exit_Model_{i}.tflite\",\"wb\").write(tflite_model)\n",
    "    tflite_model_file = Path(f\"./TFLITE_Models/Initial_Models/Exit_Model_{i}.tflite\")\n",
    "    tflite_model_file.write_bytes(tflite_model)\n",
    "    \n",
    "    interpreter = tf.lite.Interpreter(model_content=tflite_model)\n",
    "    input_type = interpreter.get_input_details()[0]['dtype']\n",
    "    print(f'model{i} input: ', input_type)\n",
    "    output_type = interpreter.get_output_details()[0]['dtype']\n",
    "    print(f'model{i} output: ', output_type)    "
   ]
  },
  {
   "cell_type": "code",
   "execution_count": 3,
   "metadata": {},
   "outputs": [
    {
     "name": "stdout",
     "output_type": "stream",
     "text": [
      "test_images accuracy is 88.40%\n"
     ]
    }
   ],
   "source": [
    "(train_images, train_labels), (test_images, test_labels) = tf.keras.datasets.mnist.load_data()\n",
    "train_images = np.pad(train_images,[[0,0],[2,2],[2,2]],\"constant\",constant_values=0)\n",
    "train_images = np.expand_dims(train_images,-1)\n",
    "train_images = train_images.astype(np.float32) / 255.0\n",
    "# print(train_images.dtype)\n",
    "\n",
    "test_images = np.pad(test_images,[[0,0],[2,2],[2,2]],\"constant\",constant_values=0)\n",
    "test_images = np.expand_dims(test_images,-1)\n",
    "test_images = test_images.astype(np.float32) / 255.0\n",
    "# print(train_images.dtype)\n",
    "\n",
    "def evaluate(interpreter_path):\n",
    "    #加载模型并分配张量\n",
    "    interpreter = tf.lite.Interpreter(model_path=interpreter_path)\n",
    "    interpreter.allocate_tensors()\n",
    "\n",
    "    #获得输入输出张量.\n",
    "    input_details = interpreter.get_input_details()\n",
    "    output_details = interpreter.get_output_details()\n",
    "\n",
    "    index = input_details[0]['index']\n",
    "    shape = input_details[0]['shape']\n",
    "    acc_count = 0\n",
    "    image_count = test_images.shape[0]\n",
    "    for i in range(image_count):\n",
    "        interpreter.set_tensor(index, test_images[i].reshape(shape).astype(\"float32\"))\n",
    "        interpreter.invoke()\n",
    "        output_data = interpreter.get_tensor(output_details[0]['index'])\n",
    "        label = np.argmax(output_data)\n",
    "        if label == test_labels[i]:\n",
    "            acc_count += 1\n",
    "    print(\"test_images accuracy is {:.2%}\".format(acc_count/(image_count)))\n",
    "\n",
    "evaluate(\"./TFLITE_Models/Initial_Models/Exit_Model_1.tflite\")"
   ]
  },
  {
   "attachments": {},
   "cell_type": "markdown",
   "metadata": {},
   "source": [
    "轉成 tflite 動態量化"
   ]
  },
  {
   "cell_type": "code",
   "execution_count": 4,
   "metadata": {},
   "outputs": [
    {
     "name": "stdout",
     "output_type": "stream",
     "text": [
      "WARNING:tensorflow:No training configuration found in the save file, so the model was *not* compiled. Compile it manually.\n"
     ]
    },
    {
     "name": "stderr",
     "output_type": "stream",
     "text": [
      "WARNING:tensorflow:No training configuration found in the save file, so the model was *not* compiled. Compile it manually.\n",
      "WARNING:absl:Function `_wrapped_model` contains input name(s) Input_img with unsupported characters which will be renamed to input_img in the SavedModel.\n",
      "WARNING:absl:Found untraced functions such as _jit_compiled_convolution_op while saving (showing 1 of 1). These functions will not be directly callable after loading.\n"
     ]
    },
    {
     "name": "stdout",
     "output_type": "stream",
     "text": [
      "INFO:tensorflow:Assets written to: C:\\Users\\zz408\\AppData\\Local\\Temp\\tmpsm6itmnk\\assets\n"
     ]
    },
    {
     "name": "stderr",
     "output_type": "stream",
     "text": [
      "INFO:tensorflow:Assets written to: C:\\Users\\zz408\\AppData\\Local\\Temp\\tmpsm6itmnk\\assets\n"
     ]
    },
    {
     "name": "stdout",
     "output_type": "stream",
     "text": [
      "model1 input:  <class 'numpy.float32'>\n",
      "model1 output:  <class 'numpy.float32'>\n",
      "WARNING:tensorflow:No training configuration found in the save file, so the model was *not* compiled. Compile it manually.\n"
     ]
    },
    {
     "name": "stderr",
     "output_type": "stream",
     "text": [
      "WARNING:tensorflow:No training configuration found in the save file, so the model was *not* compiled. Compile it manually.\n",
      "WARNING:absl:Function `_wrapped_model` contains input name(s) C1_params with unsupported characters which will be renamed to c1_params in the SavedModel.\n"
     ]
    },
    {
     "name": "stdout",
     "output_type": "stream",
     "text": [
      "INFO:tensorflow:Assets written to: C:\\Users\\zz408\\AppData\\Local\\Temp\\tmpqoi7iodm\\assets\n"
     ]
    },
    {
     "name": "stderr",
     "output_type": "stream",
     "text": [
      "INFO:tensorflow:Assets written to: C:\\Users\\zz408\\AppData\\Local\\Temp\\tmpqoi7iodm\\assets\n"
     ]
    },
    {
     "name": "stdout",
     "output_type": "stream",
     "text": [
      "model2 input:  <class 'numpy.float32'>\n",
      "model2 output:  <class 'numpy.float32'>\n",
      "WARNING:tensorflow:No training configuration found in the save file, so the model was *not* compiled. Compile it manually.\n"
     ]
    },
    {
     "name": "stderr",
     "output_type": "stream",
     "text": [
      "WARNING:tensorflow:No training configuration found in the save file, so the model was *not* compiled. Compile it manually.\n",
      "WARNING:absl:Function `_wrapped_model` contains input name(s) S2_params with unsupported characters which will be renamed to s2_params in the SavedModel.\n",
      "WARNING:absl:Found untraced functions such as _jit_compiled_convolution_op while saving (showing 1 of 1). These functions will not be directly callable after loading.\n"
     ]
    },
    {
     "name": "stdout",
     "output_type": "stream",
     "text": [
      "INFO:tensorflow:Assets written to: C:\\Users\\zz408\\AppData\\Local\\Temp\\tmpn0va8nd8\\assets\n"
     ]
    },
    {
     "name": "stderr",
     "output_type": "stream",
     "text": [
      "INFO:tensorflow:Assets written to: C:\\Users\\zz408\\AppData\\Local\\Temp\\tmpn0va8nd8\\assets\n"
     ]
    },
    {
     "name": "stdout",
     "output_type": "stream",
     "text": [
      "model3 input:  <class 'numpy.float32'>\n",
      "model3 output:  <class 'numpy.float32'>\n",
      "WARNING:tensorflow:No training configuration found in the save file, so the model was *not* compiled. Compile it manually.\n"
     ]
    },
    {
     "name": "stderr",
     "output_type": "stream",
     "text": [
      "WARNING:tensorflow:No training configuration found in the save file, so the model was *not* compiled. Compile it manually.\n",
      "WARNING:absl:Function `_wrapped_model` contains input name(s) C3_params with unsupported characters which will be renamed to c3_params in the SavedModel.\n"
     ]
    },
    {
     "name": "stdout",
     "output_type": "stream",
     "text": [
      "INFO:tensorflow:Assets written to: C:\\Users\\zz408\\AppData\\Local\\Temp\\tmpimv8gvpw\\assets\n"
     ]
    },
    {
     "name": "stderr",
     "output_type": "stream",
     "text": [
      "INFO:tensorflow:Assets written to: C:\\Users\\zz408\\AppData\\Local\\Temp\\tmpimv8gvpw\\assets\n"
     ]
    },
    {
     "name": "stdout",
     "output_type": "stream",
     "text": [
      "model4 input:  <class 'numpy.float32'>\n",
      "model4 output:  <class 'numpy.float32'>\n",
      "WARNING:tensorflow:No training configuration found in the save file, so the model was *not* compiled. Compile it manually.\n"
     ]
    },
    {
     "name": "stderr",
     "output_type": "stream",
     "text": [
      "WARNING:tensorflow:No training configuration found in the save file, so the model was *not* compiled. Compile it manually.\n",
      "WARNING:absl:Function `_wrapped_model` contains input name(s) S4_params with unsupported characters which will be renamed to s4_params in the SavedModel.\n"
     ]
    },
    {
     "name": "stdout",
     "output_type": "stream",
     "text": [
      "INFO:tensorflow:Assets written to: C:\\Users\\zz408\\AppData\\Local\\Temp\\tmpdri6xrhv\\assets\n"
     ]
    },
    {
     "name": "stderr",
     "output_type": "stream",
     "text": [
      "INFO:tensorflow:Assets written to: C:\\Users\\zz408\\AppData\\Local\\Temp\\tmpdri6xrhv\\assets\n"
     ]
    },
    {
     "name": "stdout",
     "output_type": "stream",
     "text": [
      "model5 input:  <class 'numpy.float32'>\n",
      "model5 output:  <class 'numpy.float32'>\n",
      "WARNING:tensorflow:No training configuration found in the save file, so the model was *not* compiled. Compile it manually.\n"
     ]
    },
    {
     "name": "stderr",
     "output_type": "stream",
     "text": [
      "WARNING:tensorflow:No training configuration found in the save file, so the model was *not* compiled. Compile it manually.\n",
      "WARNING:absl:Function `_wrapped_model` contains input name(s) F5_params with unsupported characters which will be renamed to f5_params in the SavedModel.\n"
     ]
    },
    {
     "name": "stdout",
     "output_type": "stream",
     "text": [
      "INFO:tensorflow:Assets written to: C:\\Users\\zz408\\AppData\\Local\\Temp\\tmpumjksf4k\\assets\n"
     ]
    },
    {
     "name": "stderr",
     "output_type": "stream",
     "text": [
      "INFO:tensorflow:Assets written to: C:\\Users\\zz408\\AppData\\Local\\Temp\\tmpumjksf4k\\assets\n"
     ]
    },
    {
     "name": "stdout",
     "output_type": "stream",
     "text": [
      "model6 input:  <class 'numpy.float32'>\n",
      "model6 output:  <class 'numpy.float32'>\n"
     ]
    }
   ],
   "source": [
    "for i in range(1,7):\n",
    "    model = tf.keras.models.load_model(f\"./Models/Exit_Model_{i}.h5\")\n",
    "    ## 动态范围量化\n",
    "    converter = tf.lite.TFLiteConverter.from_keras_model(model)\n",
    "    converter.optimizations = [tf.lite.Optimize.DEFAULT]\n",
    "    tflite_model_dynamic = converter.convert()\n",
    "    tflite_model_file = Path(f\"./TFLITE_Models/Dynamic_Models/Exit_Model_{i}.tflite\")\n",
    "    tflite_model_file.write_bytes(tflite_model_dynamic)\n",
    "    \n",
    "    interpreter = tf.lite.Interpreter(model_content=tflite_model_dynamic)\n",
    "    input_type = interpreter.get_input_details()[0]['dtype']\n",
    "    print(f'model{i} input: ', input_type)\n",
    "    output_type = interpreter.get_output_details()[0]['dtype']\n",
    "    print(f'model{i} output: ', output_type)  \n"
   ]
  },
  {
   "attachments": {},
   "cell_type": "markdown",
   "metadata": {},
   "source": [
    "動態量化模型測試"
   ]
  },
  {
   "cell_type": "code",
   "execution_count": 5,
   "metadata": {},
   "outputs": [
    {
     "name": "stdout",
     "output_type": "stream",
     "text": [
      "test_images accuracy is 88.40%\n"
     ]
    }
   ],
   "source": [
    "(train_images, train_labels), (test_images, test_labels) = tf.keras.datasets.mnist.load_data()\n",
    "train_images = np.pad(train_images,[[0,0],[2,2],[2,2]],\"constant\",constant_values=0)\n",
    "train_images = np.expand_dims(train_images,-1)\n",
    "train_images = train_images.astype(np.float32) / 255.0\n",
    "# print(train_images.dtype)\n",
    "\n",
    "test_images = np.pad(test_images,[[0,0],[2,2],[2,2]],\"constant\",constant_values=0)\n",
    "test_images = np.expand_dims(test_images,-1)\n",
    "test_images = test_images.astype(np.float32) / 255.0\n",
    "# print(train_images.dtype)\n",
    "\n",
    "def evaluate(interpreter_path):\n",
    "    #加载模型并分配张量\n",
    "    interpreter = tf.lite.Interpreter(model_path=interpreter_path)\n",
    "    interpreter.allocate_tensors()\n",
    "\n",
    "    #获得输入输出张量.\n",
    "    input_details = interpreter.get_input_details()\n",
    "    output_details = interpreter.get_output_details()\n",
    "\n",
    "    index = input_details[0]['index']\n",
    "    shape = input_details[0]['shape']\n",
    "    acc_count = 0\n",
    "    image_count = test_images.shape[0]\n",
    "    for i in range(image_count):\n",
    "        interpreter.set_tensor(index, test_images[i].reshape(shape).astype(\"float32\"))\n",
    "        interpreter.invoke()\n",
    "        output_data = interpreter.get_tensor(output_details[0]['index'])\n",
    "        label = np.argmax(output_data)\n",
    "        if label == test_labels[i]:\n",
    "            acc_count += 1\n",
    "    print(\"test_images accuracy is {:.2%}\".format(acc_count/(image_count)))\n",
    "\n",
    "evaluate(\"./TFLITE_Models/Dynamic_Models/Exit_Model_1.tflite\")"
   ]
  },
  {
   "attachments": {},
   "cell_type": "markdown",
   "metadata": {},
   "source": [
    "轉成 tflite 部分整數型量化(輸入輸出為float32)"
   ]
  },
  {
   "cell_type": "code",
   "execution_count": 6,
   "metadata": {},
   "outputs": [
    {
     "name": "stdout",
     "output_type": "stream",
     "text": [
      "<class 'numpy.ndarray'> (100, 32, 32, 1)\n",
      "WARNING:tensorflow:No training configuration found in the save file, so the model was *not* compiled. Compile it manually.\n"
     ]
    },
    {
     "name": "stderr",
     "output_type": "stream",
     "text": [
      "WARNING:tensorflow:No training configuration found in the save file, so the model was *not* compiled. Compile it manually.\n",
      "WARNING:absl:Function `_wrapped_model` contains input name(s) Input_img with unsupported characters which will be renamed to input_img in the SavedModel.\n",
      "WARNING:absl:Found untraced functions such as _jit_compiled_convolution_op while saving (showing 1 of 1). These functions will not be directly callable after loading.\n"
     ]
    },
    {
     "name": "stdout",
     "output_type": "stream",
     "text": [
      "INFO:tensorflow:Assets written to: C:\\Users\\zz408\\AppData\\Local\\Temp\\tmp5o5wpcv7\\assets\n"
     ]
    },
    {
     "name": "stderr",
     "output_type": "stream",
     "text": [
      "INFO:tensorflow:Assets written to: C:\\Users\\zz408\\AppData\\Local\\Temp\\tmp5o5wpcv7\\assets\n",
      "C:\\Users\\zz408\\AppData\\Roaming\\Python\\Python39\\site-packages\\tensorflow\\lite\\python\\convert.py:766: UserWarning: Statistics for quantized inputs were expected, but not specified; continuing anyway.\n",
      "  warnings.warn(\"Statistics for quantized inputs were expected, but not \"\n"
     ]
    },
    {
     "name": "stdout",
     "output_type": "stream",
     "text": [
      "input:  <class 'numpy.float32'> [ 1 32 32  1]\n",
      "output0:  <class 'numpy.float32'> [ 1 10]\n",
      "output1:  <class 'numpy.float32'> [ 1 28 28  6]\n",
      "4/4 [==============================] - 7s 80ms/step\n",
      "WARNING:tensorflow:No training configuration found in the save file, so the model was *not* compiled. Compile it manually.\n"
     ]
    },
    {
     "name": "stderr",
     "output_type": "stream",
     "text": [
      "WARNING:tensorflow:No training configuration found in the save file, so the model was *not* compiled. Compile it manually.\n",
      "WARNING:absl:Function `_wrapped_model` contains input name(s) C1_params with unsupported characters which will be renamed to c1_params in the SavedModel.\n"
     ]
    },
    {
     "name": "stdout",
     "output_type": "stream",
     "text": [
      "INFO:tensorflow:Assets written to: C:\\Users\\zz408\\AppData\\Local\\Temp\\tmppkjk6dqw\\assets\n"
     ]
    },
    {
     "name": "stderr",
     "output_type": "stream",
     "text": [
      "INFO:tensorflow:Assets written to: C:\\Users\\zz408\\AppData\\Local\\Temp\\tmppkjk6dqw\\assets\n"
     ]
    },
    {
     "name": "stdout",
     "output_type": "stream",
     "text": [
      "input:  <class 'numpy.float32'> [ 1 28 28  6]\n",
      "output0:  <class 'numpy.float32'> [ 1 14 14  6]\n",
      "output1:  <class 'numpy.float32'> [ 1 10]\n",
      "4/4 [==============================] - 0s 3ms/step\n"
     ]
    },
    {
     "name": "stderr",
     "output_type": "stream",
     "text": [
      "C:\\Users\\zz408\\AppData\\Roaming\\Python\\Python39\\site-packages\\tensorflow\\lite\\python\\convert.py:766: UserWarning: Statistics for quantized inputs were expected, but not specified; continuing anyway.\n",
      "  warnings.warn(\"Statistics for quantized inputs were expected, but not \"\n"
     ]
    },
    {
     "name": "stdout",
     "output_type": "stream",
     "text": [
      "WARNING:tensorflow:No training configuration found in the save file, so the model was *not* compiled. Compile it manually.\n"
     ]
    },
    {
     "name": "stderr",
     "output_type": "stream",
     "text": [
      "WARNING:tensorflow:No training configuration found in the save file, so the model was *not* compiled. Compile it manually.\n",
      "WARNING:absl:Function `_wrapped_model` contains input name(s) S2_params with unsupported characters which will be renamed to s2_params in the SavedModel.\n",
      "WARNING:absl:Found untraced functions such as _jit_compiled_convolution_op while saving (showing 1 of 1). These functions will not be directly callable after loading.\n"
     ]
    },
    {
     "name": "stdout",
     "output_type": "stream",
     "text": [
      "INFO:tensorflow:Assets written to: C:\\Users\\zz408\\AppData\\Local\\Temp\\tmp_m54ni3z\\assets\n"
     ]
    },
    {
     "name": "stderr",
     "output_type": "stream",
     "text": [
      "INFO:tensorflow:Assets written to: C:\\Users\\zz408\\AppData\\Local\\Temp\\tmp_m54ni3z\\assets\n",
      "C:\\Users\\zz408\\AppData\\Roaming\\Python\\Python39\\site-packages\\tensorflow\\lite\\python\\convert.py:766: UserWarning: Statistics for quantized inputs were expected, but not specified; continuing anyway.\n",
      "  warnings.warn(\"Statistics for quantized inputs were expected, but not \"\n"
     ]
    },
    {
     "name": "stdout",
     "output_type": "stream",
     "text": [
      "input:  <class 'numpy.float32'> [ 1 14 14  6]\n",
      "output0:  <class 'numpy.float32'> [ 1 10 10 16]\n",
      "output1:  <class 'numpy.float32'> [ 1 10]\n",
      "4/4 [==============================] - 0s 24ms/step\n",
      "WARNING:tensorflow:No training configuration found in the save file, so the model was *not* compiled. Compile it manually.\n"
     ]
    },
    {
     "name": "stderr",
     "output_type": "stream",
     "text": [
      "WARNING:tensorflow:No training configuration found in the save file, so the model was *not* compiled. Compile it manually.\n",
      "WARNING:absl:Function `_wrapped_model` contains input name(s) C3_params with unsupported characters which will be renamed to c3_params in the SavedModel.\n"
     ]
    },
    {
     "name": "stdout",
     "output_type": "stream",
     "text": [
      "INFO:tensorflow:Assets written to: C:\\Users\\zz408\\AppData\\Local\\Temp\\tmp8y0917ja\\assets\n"
     ]
    },
    {
     "name": "stderr",
     "output_type": "stream",
     "text": [
      "INFO:tensorflow:Assets written to: C:\\Users\\zz408\\AppData\\Local\\Temp\\tmp8y0917ja\\assets\n",
      "C:\\Users\\zz408\\AppData\\Roaming\\Python\\Python39\\site-packages\\tensorflow\\lite\\python\\convert.py:766: UserWarning: Statistics for quantized inputs were expected, but not specified; continuing anyway.\n",
      "  warnings.warn(\"Statistics for quantized inputs were expected, but not \"\n"
     ]
    },
    {
     "name": "stdout",
     "output_type": "stream",
     "text": [
      "input:  <class 'numpy.float32'> [ 1 10 10 16]\n",
      "output0:  <class 'numpy.float32'> [ 1 10]\n",
      "output1:  <class 'numpy.float32'> [ 1  5  5 16]\n",
      "4/4 [==============================] - 0s 2ms/step\n",
      "WARNING:tensorflow:No training configuration found in the save file, so the model was *not* compiled. Compile it manually.\n"
     ]
    },
    {
     "name": "stderr",
     "output_type": "stream",
     "text": [
      "WARNING:tensorflow:No training configuration found in the save file, so the model was *not* compiled. Compile it manually.\n",
      "WARNING:absl:Function `_wrapped_model` contains input name(s) S4_params with unsupported characters which will be renamed to s4_params in the SavedModel.\n"
     ]
    },
    {
     "name": "stdout",
     "output_type": "stream",
     "text": [
      "INFO:tensorflow:Assets written to: C:\\Users\\zz408\\AppData\\Local\\Temp\\tmpx_2fjdm2\\assets\n"
     ]
    },
    {
     "name": "stderr",
     "output_type": "stream",
     "text": [
      "INFO:tensorflow:Assets written to: C:\\Users\\zz408\\AppData\\Local\\Temp\\tmpx_2fjdm2\\assets\n"
     ]
    },
    {
     "name": "stdout",
     "output_type": "stream",
     "text": [
      "input:  <class 'numpy.float32'> [ 1  5  5 16]\n",
      "output0:  <class 'numpy.float32'> [ 1 10]\n",
      "output1:  <class 'numpy.float32'> [  1 120]\n",
      "4/4 [==============================] - 0s 1ms/step\n",
      "WARNING:tensorflow:No training configuration found in the save file, so the model was *not* compiled. Compile it manually.\n"
     ]
    },
    {
     "name": "stderr",
     "output_type": "stream",
     "text": [
      "C:\\Users\\zz408\\AppData\\Roaming\\Python\\Python39\\site-packages\\tensorflow\\lite\\python\\convert.py:766: UserWarning: Statistics for quantized inputs were expected, but not specified; continuing anyway.\n",
      "  warnings.warn(\"Statistics for quantized inputs were expected, but not \"\n",
      "WARNING:tensorflow:No training configuration found in the save file, so the model was *not* compiled. Compile it manually.\n",
      "WARNING:absl:Function `_wrapped_model` contains input name(s) F5_params with unsupported characters which will be renamed to f5_params in the SavedModel.\n"
     ]
    },
    {
     "name": "stdout",
     "output_type": "stream",
     "text": [
      "INFO:tensorflow:Assets written to: C:\\Users\\zz408\\AppData\\Local\\Temp\\tmpqhpkjonl\\assets\n"
     ]
    },
    {
     "name": "stderr",
     "output_type": "stream",
     "text": [
      "INFO:tensorflow:Assets written to: C:\\Users\\zz408\\AppData\\Local\\Temp\\tmpqhpkjonl\\assets\n",
      "C:\\Users\\zz408\\AppData\\Roaming\\Python\\Python39\\site-packages\\tensorflow\\lite\\python\\convert.py:766: UserWarning: Statistics for quantized inputs were expected, but not specified; continuing anyway.\n",
      "  warnings.warn(\"Statistics for quantized inputs were expected, but not \"\n"
     ]
    },
    {
     "name": "stdout",
     "output_type": "stream",
     "text": [
      "input:  <class 'numpy.float32'> [  1 120]\n",
      "output0:  <class 'numpy.float32'> [ 1 10]\n",
      "4/4 [==============================] - 0s 1ms/step\n"
     ]
    }
   ],
   "source": [
    "(train_images, train_labels), (test_images, test_labels) = tf.keras.datasets.mnist.load_data()\n",
    "# Normalize the input image so that each pixel value is between 0 to 1.\n",
    "train_images = train_images[0:100,:,:]\n",
    "train_images = np.pad(train_images,[[0,0],[2,2],[2,2]],\"constant\",constant_values=0)\n",
    "train_images = np.expand_dims(train_images,-1)\n",
    "train_images = train_images.astype(np.float32) / 255.0\n",
    "print(type(train_images), train_images.shape)\n",
    "\n",
    "def representative_data_gen():\n",
    "    global train_images\n",
    "    for data in tf.data.Dataset.from_tensor_slices(train_images).batch(1).take(100):\n",
    "        yield [data]\n",
    "        \n",
    "for i in range(1,7):    \n",
    "    model = tf.keras.models.load_model(f\"./Models/Exit_Model_{i}.h5\")\n",
    "    converter = tf.lite.TFLiteConverter.from_keras_model(model)\n",
    "    converter.optimizations = [tf.lite.Optimize.DEFAULT]\n",
    "    converter.representative_dataset = representative_data_gen\n",
    "    # converter.target_spec.supported_ops = [tf.lite.OpsSet.TFLITE_BUILTINS_INT8]\n",
    "    # converter.inference_input_type = tf.uint8\n",
    "    # converter.inference_output_type = tf.uint8\n",
    "    tflite_model_int8 = converter.convert()\n",
    "    tflite_model_file = Path(f\"./TFLITE_Models/Partial_Uint8_Models/Exit_Model_{i}.tflite\") \n",
    "    tflite_model_file.write_bytes(tflite_model_int8)\n",
    "\n",
    "    interpreter = tf.lite.Interpreter(model_content=tflite_model_int8)\n",
    "    input_type = interpreter.get_input_details()#[0]['dtype']\n",
    "    print('input: ', input_type[0]['dtype'],input_type[0]['shape'])\n",
    "    output_type = interpreter.get_output_details()#[0]['dtype']\n",
    "    print('output0: ', output_type[0]['dtype'],output_type[0]['shape'])\n",
    "    try:\n",
    "        print('output1: ', output_type[1]['dtype'],output_type[1]['shape'])\n",
    "        predict, train_images = model.predict(train_images)\n",
    "    except IndexError:\n",
    "        predict = model.predict(train_images)\n",
    "        "
   ]
  },
  {
   "attachments": {},
   "cell_type": "markdown",
   "metadata": {},
   "source": [
    "部分整數型量化測試"
   ]
  },
  {
   "cell_type": "code",
   "execution_count": 7,
   "metadata": {},
   "outputs": [
    {
     "name": "stdout",
     "output_type": "stream",
     "text": [
      "test_images accuracy is 88.97%\n"
     ]
    }
   ],
   "source": [
    "(train_images, train_labels), (test_images, test_labels) = tf.keras.datasets.mnist.load_data()\n",
    "train_images = np.pad(train_images,[[0,0],[2,2],[2,2]],\"constant\",constant_values=0)\n",
    "train_images = np.expand_dims(train_images,-1)\n",
    "train_images = train_images.astype(np.float32) / 255.0\n",
    "# print(train_images.dtype)\n",
    "\n",
    "test_images = np.pad(test_images,[[0,0],[2,2],[2,2]],\"constant\",constant_values=0)\n",
    "test_images = np.expand_dims(test_images,-1)\n",
    "test_images = test_images.astype(np.float32) / 255.0\n",
    "# print(train_images.dtype)\n",
    "\n",
    "def evaluate(interpreter_path):\n",
    "    #加载模型并分配张量\n",
    "    interpreter = tf.lite.Interpreter(model_path=interpreter_path)\n",
    "    interpreter.allocate_tensors()\n",
    "\n",
    "    #获得输入输出张量.\n",
    "    input_details = interpreter.get_input_details()\n",
    "    output_details = interpreter.get_output_details()\n",
    "\n",
    "    index = input_details[0]['index']\n",
    "    shape = input_details[0]['shape']\n",
    "    acc_count = 0\n",
    "    image_count = test_images.shape[0]\n",
    "    for i in range(image_count):\n",
    "        interpreter.set_tensor(index, test_images[i].reshape(shape).astype(\"float32\"))\n",
    "        interpreter.invoke()\n",
    "        output_data = interpreter.get_tensor(output_details[0]['index'])\n",
    "        label = np.argmax(output_data)\n",
    "        if label == test_labels[i]:\n",
    "            acc_count += 1\n",
    "    print(\"test_images accuracy is {:.2%}\".format(acc_count/(image_count)))\n",
    "\n",
    "evaluate(\"./TFLITE_Models/Partial_Uint8_Models/Exit_Model_1.tflite\")"
   ]
  },
  {
   "attachments": {},
   "cell_type": "markdown",
   "metadata": {},
   "source": [
    "轉成 tflite 全整數型量化"
   ]
  },
  {
   "cell_type": "code",
   "execution_count": 8,
   "metadata": {},
   "outputs": [
    {
     "name": "stdout",
     "output_type": "stream",
     "text": [
      "<class 'numpy.ndarray'> (100, 32, 32, 1)\n",
      "WARNING:tensorflow:No training configuration found in the save file, so the model was *not* compiled. Compile it manually.\n"
     ]
    },
    {
     "name": "stderr",
     "output_type": "stream",
     "text": [
      "WARNING:tensorflow:No training configuration found in the save file, so the model was *not* compiled. Compile it manually.\n",
      "WARNING:absl:Function `_wrapped_model` contains input name(s) Input_img with unsupported characters which will be renamed to input_img in the SavedModel.\n",
      "WARNING:absl:Found untraced functions such as _jit_compiled_convolution_op while saving (showing 1 of 1). These functions will not be directly callable after loading.\n"
     ]
    },
    {
     "name": "stdout",
     "output_type": "stream",
     "text": [
      "INFO:tensorflow:Assets written to: C:\\Users\\zz408\\AppData\\Local\\Temp\\tmpn1fcbiup\\assets\n"
     ]
    },
    {
     "name": "stderr",
     "output_type": "stream",
     "text": [
      "INFO:tensorflow:Assets written to: C:\\Users\\zz408\\AppData\\Local\\Temp\\tmpn1fcbiup\\assets\n"
     ]
    },
    {
     "name": "stdout",
     "output_type": "stream",
     "text": [
      "input:  <class 'numpy.uint8'> [ 1 32 32  1]\n",
      "output0:  <class 'numpy.uint8'> [ 1 10]\n",
      "output1:  <class 'numpy.uint8'> [ 1 28 28  6]\n",
      "4/4 [==============================] - 0s 2ms/step\n",
      "WARNING:tensorflow:No training configuration found in the save file, so the model was *not* compiled. Compile it manually.\n"
     ]
    },
    {
     "name": "stderr",
     "output_type": "stream",
     "text": [
      "C:\\Users\\zz408\\AppData\\Roaming\\Python\\Python39\\site-packages\\tensorflow\\lite\\python\\convert.py:766: UserWarning: Statistics for quantized inputs were expected, but not specified; continuing anyway.\n",
      "  warnings.warn(\"Statistics for quantized inputs were expected, but not \"\n",
      "WARNING:tensorflow:No training configuration found in the save file, so the model was *not* compiled. Compile it manually.\n",
      "WARNING:absl:Function `_wrapped_model` contains input name(s) C1_params with unsupported characters which will be renamed to c1_params in the SavedModel.\n"
     ]
    },
    {
     "name": "stdout",
     "output_type": "stream",
     "text": [
      "INFO:tensorflow:Assets written to: C:\\Users\\zz408\\AppData\\Local\\Temp\\tmpdujv_m9p\\assets\n"
     ]
    },
    {
     "name": "stderr",
     "output_type": "stream",
     "text": [
      "INFO:tensorflow:Assets written to: C:\\Users\\zz408\\AppData\\Local\\Temp\\tmpdujv_m9p\\assets\n"
     ]
    },
    {
     "name": "stdout",
     "output_type": "stream",
     "text": [
      "input:  <class 'numpy.uint8'> [ 1 28 28  6]\n",
      "output0:  <class 'numpy.uint8'> [ 1 14 14  6]\n",
      "output1:  <class 'numpy.uint8'> [ 1 10]\n",
      "4/4 [==============================] - 0s 2ms/step\n",
      "WARNING:tensorflow:No training configuration found in the save file, so the model was *not* compiled. Compile it manually.\n"
     ]
    },
    {
     "name": "stderr",
     "output_type": "stream",
     "text": [
      "C:\\Users\\zz408\\AppData\\Roaming\\Python\\Python39\\site-packages\\tensorflow\\lite\\python\\convert.py:766: UserWarning: Statistics for quantized inputs were expected, but not specified; continuing anyway.\n",
      "  warnings.warn(\"Statistics for quantized inputs were expected, but not \"\n",
      "WARNING:tensorflow:No training configuration found in the save file, so the model was *not* compiled. Compile it manually.\n",
      "WARNING:absl:Function `_wrapped_model` contains input name(s) S2_params with unsupported characters which will be renamed to s2_params in the SavedModel.\n",
      "WARNING:absl:Found untraced functions such as _jit_compiled_convolution_op while saving (showing 1 of 1). These functions will not be directly callable after loading.\n"
     ]
    },
    {
     "name": "stdout",
     "output_type": "stream",
     "text": [
      "INFO:tensorflow:Assets written to: C:\\Users\\zz408\\AppData\\Local\\Temp\\tmp31603hfc\\assets\n"
     ]
    },
    {
     "name": "stderr",
     "output_type": "stream",
     "text": [
      "INFO:tensorflow:Assets written to: C:\\Users\\zz408\\AppData\\Local\\Temp\\tmp31603hfc\\assets\n"
     ]
    },
    {
     "name": "stdout",
     "output_type": "stream",
     "text": [
      "input:  <class 'numpy.uint8'> [ 1 14 14  6]\n",
      "output0:  <class 'numpy.uint8'> [ 1 10 10 16]\n",
      "output1:  <class 'numpy.uint8'> [ 1 10]\n",
      "4/4 [==============================] - 0s 2ms/step\n",
      "WARNING:tensorflow:No training configuration found in the save file, so the model was *not* compiled. Compile it manually.\n"
     ]
    },
    {
     "name": "stderr",
     "output_type": "stream",
     "text": [
      "C:\\Users\\zz408\\AppData\\Roaming\\Python\\Python39\\site-packages\\tensorflow\\lite\\python\\convert.py:766: UserWarning: Statistics for quantized inputs were expected, but not specified; continuing anyway.\n",
      "  warnings.warn(\"Statistics for quantized inputs were expected, but not \"\n",
      "WARNING:tensorflow:No training configuration found in the save file, so the model was *not* compiled. Compile it manually.\n",
      "WARNING:absl:Function `_wrapped_model` contains input name(s) C3_params with unsupported characters which will be renamed to c3_params in the SavedModel.\n"
     ]
    },
    {
     "name": "stdout",
     "output_type": "stream",
     "text": [
      "INFO:tensorflow:Assets written to: C:\\Users\\zz408\\AppData\\Local\\Temp\\tmpb4qph9sj\\assets\n"
     ]
    },
    {
     "name": "stderr",
     "output_type": "stream",
     "text": [
      "INFO:tensorflow:Assets written to: C:\\Users\\zz408\\AppData\\Local\\Temp\\tmpb4qph9sj\\assets\n",
      "C:\\Users\\zz408\\AppData\\Roaming\\Python\\Python39\\site-packages\\tensorflow\\lite\\python\\convert.py:766: UserWarning: Statistics for quantized inputs were expected, but not specified; continuing anyway.\n",
      "  warnings.warn(\"Statistics for quantized inputs were expected, but not \"\n"
     ]
    },
    {
     "name": "stdout",
     "output_type": "stream",
     "text": [
      "input:  <class 'numpy.uint8'> [ 1 10 10 16]\n",
      "output0:  <class 'numpy.uint8'> [ 1 10]\n",
      "output1:  <class 'numpy.uint8'> [ 1  5  5 16]\n",
      "4/4 [==============================] - 0s 2ms/step\n",
      "WARNING:tensorflow:No training configuration found in the save file, so the model was *not* compiled. Compile it manually.\n"
     ]
    },
    {
     "name": "stderr",
     "output_type": "stream",
     "text": [
      "WARNING:tensorflow:No training configuration found in the save file, so the model was *not* compiled. Compile it manually.\n",
      "WARNING:absl:Function `_wrapped_model` contains input name(s) S4_params with unsupported characters which will be renamed to s4_params in the SavedModel.\n"
     ]
    },
    {
     "name": "stdout",
     "output_type": "stream",
     "text": [
      "INFO:tensorflow:Assets written to: C:\\Users\\zz408\\AppData\\Local\\Temp\\tmpi4wygij_\\assets\n"
     ]
    },
    {
     "name": "stderr",
     "output_type": "stream",
     "text": [
      "INFO:tensorflow:Assets written to: C:\\Users\\zz408\\AppData\\Local\\Temp\\tmpi4wygij_\\assets\n"
     ]
    },
    {
     "name": "stdout",
     "output_type": "stream",
     "text": [
      "input:  <class 'numpy.uint8'> [ 1  5  5 16]\n",
      "output0:  <class 'numpy.uint8'> [ 1 10]\n",
      "output1:  <class 'numpy.uint8'> [  1 120]\n",
      "4/4 [==============================] - 0s 1ms/step\n",
      "WARNING:tensorflow:No training configuration found in the save file, so the model was *not* compiled. Compile it manually.\n"
     ]
    },
    {
     "name": "stderr",
     "output_type": "stream",
     "text": [
      "C:\\Users\\zz408\\AppData\\Roaming\\Python\\Python39\\site-packages\\tensorflow\\lite\\python\\convert.py:766: UserWarning: Statistics for quantized inputs were expected, but not specified; continuing anyway.\n",
      "  warnings.warn(\"Statistics for quantized inputs were expected, but not \"\n",
      "WARNING:tensorflow:No training configuration found in the save file, so the model was *not* compiled. Compile it manually.\n",
      "WARNING:absl:Function `_wrapped_model` contains input name(s) F5_params with unsupported characters which will be renamed to f5_params in the SavedModel.\n"
     ]
    },
    {
     "name": "stdout",
     "output_type": "stream",
     "text": [
      "INFO:tensorflow:Assets written to: C:\\Users\\zz408\\AppData\\Local\\Temp\\tmpod9tvrvr\\assets\n"
     ]
    },
    {
     "name": "stderr",
     "output_type": "stream",
     "text": [
      "INFO:tensorflow:Assets written to: C:\\Users\\zz408\\AppData\\Local\\Temp\\tmpod9tvrvr\\assets\n",
      "C:\\Users\\zz408\\AppData\\Roaming\\Python\\Python39\\site-packages\\tensorflow\\lite\\python\\convert.py:766: UserWarning: Statistics for quantized inputs were expected, but not specified; continuing anyway.\n",
      "  warnings.warn(\"Statistics for quantized inputs were expected, but not \"\n"
     ]
    },
    {
     "name": "stdout",
     "output_type": "stream",
     "text": [
      "input:  <class 'numpy.uint8'> [  1 120]\n",
      "output0:  <class 'numpy.uint8'> [ 1 10]\n",
      "4/4 [==============================] - 0s 1ms/step\n"
     ]
    }
   ],
   "source": [
    "(train_images, train_labels), (test_images, test_labels) = tf.keras.datasets.mnist.load_data()\n",
    "# Normalize the input image so that each pixel value is between 0 to 1.\n",
    "train_images = train_images[0:100,:,:]\n",
    "train_images = np.pad(train_images,[[0,0],[2,2],[2,2]],\"constant\",constant_values=0)\n",
    "train_images = np.expand_dims(train_images,-1)\n",
    "train_images = train_images.astype(np.float32) / 255.0\n",
    "print(type(train_images), train_images.shape)\n",
    "\n",
    "def representative_data_gen():\n",
    "    global train_images\n",
    "    for data in tf.data.Dataset.from_tensor_slices(train_images).batch(1).take(100):\n",
    "        yield [data]\n",
    "        \n",
    "for i in range(1,7):    \n",
    "    model = tf.keras.models.load_model(f\"./Models/Exit_Model_{i}.h5\")\n",
    "    converter = tf.lite.TFLiteConverter.from_keras_model(model)\n",
    "    converter.optimizations = [tf.lite.Optimize.DEFAULT]\n",
    "    converter.representative_dataset = representative_data_gen\n",
    "    converter.target_spec.supported_ops = [tf.lite.OpsSet.TFLITE_BUILTINS_INT8]\n",
    "    converter.inference_input_type = tf.uint8\n",
    "    converter.inference_output_type = tf.uint8\n",
    "    tflite_model_int8 = converter.convert()\n",
    "    tflite_model_file = Path(f\"./TFLITE_Models/Full_Uint8_Models/Exit_Model_{i}.tflite\") \n",
    "    tflite_model_file.write_bytes(tflite_model_int8)\n",
    "\n",
    "    interpreter = tf.lite.Interpreter(model_content=tflite_model_int8)\n",
    "    input_type = interpreter.get_input_details()#[0]['dtype']\n",
    "    print('input: ', input_type[0]['dtype'],input_type[0]['shape'])\n",
    "    output_type = interpreter.get_output_details()#[0]['dtype']\n",
    "    print('output0: ', output_type[0]['dtype'],output_type[0]['shape'])\n",
    "    try:\n",
    "        print('output1: ', output_type[1]['dtype'],output_type[1]['shape'])\n",
    "        predict, train_images = model.predict(train_images)\n",
    "    except IndexError:\n",
    "        predict = model.predict(train_images)\n",
    "        "
   ]
  },
  {
   "attachments": {},
   "cell_type": "markdown",
   "metadata": {},
   "source": [
    "全整數化模型測試"
   ]
  },
  {
   "cell_type": "code",
   "execution_count": 9,
   "metadata": {},
   "outputs": [
    {
     "name": "stdout",
     "output_type": "stream",
     "text": [
      "test_images accuracy is 88.97%\n"
     ]
    }
   ],
   "source": [
    "(train_images, train_labels), (test_images, test_labels) = tf.keras.datasets.mnist.load_data()\n",
    "train_images = np.pad(train_images,[[0,0],[2,2],[2,2]],\"constant\",constant_values=0)\n",
    "train_images = np.expand_dims(train_images,-1)\n",
    "# train_images = train_images.astype(np.float32) / 255.0\n",
    "# print(train_images.dtype)\n",
    "\n",
    "test_images = np.pad(test_images,[[0,0],[2,2],[2,2]],\"constant\",constant_values=0)\n",
    "test_images = np.expand_dims(test_images,-1)\n",
    "# test_images = test_images.astype(np.float32) / 255.0\n",
    "# print(train_images.dtype)\n",
    "\n",
    "def evaluate(interpreter_path):\n",
    "    #加载模型并分配张量\n",
    "    interpreter = tf.lite.Interpreter(model_path=interpreter_path)\n",
    "    interpreter.allocate_tensors()\n",
    "\n",
    "    #获得输入输出张量.\n",
    "    input_details = interpreter.get_input_details()\n",
    "    output_details = interpreter.get_output_details()\n",
    "\n",
    "    index = input_details[0]['index']\n",
    "    shape = input_details[0]['shape']\n",
    "    acc_count = 0\n",
    "    image_count = test_images.shape[0]\n",
    "    for i in range(image_count):\n",
    "        interpreter.set_tensor(index, test_images[i].reshape(shape).astype(\"uint8\"))\n",
    "        interpreter.invoke()\n",
    "        output_data = interpreter.get_tensor(output_details[0]['index'])\n",
    "        label = np.argmax(output_data)\n",
    "        if label == test_labels[i]:\n",
    "            acc_count += 1\n",
    "    print(\"test_images accuracy is {:.2%}\".format(acc_count/(image_count)))\n",
    "\n",
    "evaluate(\"./TFLITE_Models/Full_uint8_Models/Exit_Model_1.tflite\")"
   ]
  },
  {
   "attachments": {},
   "cell_type": "markdown",
   "metadata": {},
   "source": [
    "轉成 tflite 半精度浮點數量化"
   ]
  },
  {
   "cell_type": "code",
   "execution_count": 10,
   "metadata": {},
   "outputs": [
    {
     "name": "stdout",
     "output_type": "stream",
     "text": [
      "<class 'numpy.ndarray'> (100, 32, 32, 1)\n",
      "WARNING:tensorflow:No training configuration found in the save file, so the model was *not* compiled. Compile it manually.\n"
     ]
    },
    {
     "name": "stderr",
     "output_type": "stream",
     "text": [
      "WARNING:tensorflow:No training configuration found in the save file, so the model was *not* compiled. Compile it manually.\n",
      "WARNING:absl:Function `_wrapped_model` contains input name(s) Input_img with unsupported characters which will be renamed to input_img in the SavedModel.\n",
      "WARNING:absl:Found untraced functions such as _jit_compiled_convolution_op while saving (showing 1 of 1). These functions will not be directly callable after loading.\n"
     ]
    },
    {
     "name": "stdout",
     "output_type": "stream",
     "text": [
      "INFO:tensorflow:Assets written to: C:\\Users\\zz408\\AppData\\Local\\Temp\\tmpahlqxv_1\\assets\n"
     ]
    },
    {
     "name": "stderr",
     "output_type": "stream",
     "text": [
      "INFO:tensorflow:Assets written to: C:\\Users\\zz408\\AppData\\Local\\Temp\\tmpahlqxv_1\\assets\n"
     ]
    },
    {
     "name": "stdout",
     "output_type": "stream",
     "text": [
      "input:  <class 'numpy.float32'> [ 1 32 32  1]\n",
      "output0:  <class 'numpy.float32'> [ 1 10]\n",
      "output1:  <class 'numpy.float32'> [ 1 28 28  6]\n",
      "4/4 [==============================] - 0s 1ms/step\n",
      "WARNING:tensorflow:No training configuration found in the save file, so the model was *not* compiled. Compile it manually.\n"
     ]
    },
    {
     "name": "stderr",
     "output_type": "stream",
     "text": [
      "WARNING:tensorflow:No training configuration found in the save file, so the model was *not* compiled. Compile it manually.\n",
      "WARNING:absl:Function `_wrapped_model` contains input name(s) C1_params with unsupported characters which will be renamed to c1_params in the SavedModel.\n"
     ]
    },
    {
     "name": "stdout",
     "output_type": "stream",
     "text": [
      "INFO:tensorflow:Assets written to: C:\\Users\\zz408\\AppData\\Local\\Temp\\tmphyi7q_eo\\assets\n"
     ]
    },
    {
     "name": "stderr",
     "output_type": "stream",
     "text": [
      "INFO:tensorflow:Assets written to: C:\\Users\\zz408\\AppData\\Local\\Temp\\tmphyi7q_eo\\assets\n"
     ]
    },
    {
     "name": "stdout",
     "output_type": "stream",
     "text": [
      "input:  <class 'numpy.float32'> [ 1 28 28  6]\n",
      "output0:  <class 'numpy.float32'> [ 1 14 14  6]\n",
      "output1:  <class 'numpy.float32'> [ 1 10]\n",
      "4/4 [==============================] - 0s 2ms/step\n",
      "WARNING:tensorflow:No training configuration found in the save file, so the model was *not* compiled. Compile it manually.\n"
     ]
    },
    {
     "name": "stderr",
     "output_type": "stream",
     "text": [
      "WARNING:tensorflow:No training configuration found in the save file, so the model was *not* compiled. Compile it manually.\n",
      "WARNING:absl:Function `_wrapped_model` contains input name(s) S2_params with unsupported characters which will be renamed to s2_params in the SavedModel.\n",
      "WARNING:absl:Found untraced functions such as _jit_compiled_convolution_op while saving (showing 1 of 1). These functions will not be directly callable after loading.\n"
     ]
    },
    {
     "name": "stdout",
     "output_type": "stream",
     "text": [
      "INFO:tensorflow:Assets written to: C:\\Users\\zz408\\AppData\\Local\\Temp\\tmp4tx6z7rt\\assets\n"
     ]
    },
    {
     "name": "stderr",
     "output_type": "stream",
     "text": [
      "INFO:tensorflow:Assets written to: C:\\Users\\zz408\\AppData\\Local\\Temp\\tmp4tx6z7rt\\assets\n"
     ]
    },
    {
     "name": "stdout",
     "output_type": "stream",
     "text": [
      "input:  <class 'numpy.float32'> [ 1 14 14  6]\n",
      "output0:  <class 'numpy.float32'> [ 1 10 10 16]\n",
      "output1:  <class 'numpy.float32'> [ 1 10]\n",
      "4/4 [==============================] - 0s 2ms/step\n",
      "WARNING:tensorflow:No training configuration found in the save file, so the model was *not* compiled. Compile it manually.\n"
     ]
    },
    {
     "name": "stderr",
     "output_type": "stream",
     "text": [
      "WARNING:tensorflow:No training configuration found in the save file, so the model was *not* compiled. Compile it manually.\n",
      "WARNING:absl:Function `_wrapped_model` contains input name(s) C3_params with unsupported characters which will be renamed to c3_params in the SavedModel.\n"
     ]
    },
    {
     "name": "stdout",
     "output_type": "stream",
     "text": [
      "INFO:tensorflow:Assets written to: C:\\Users\\zz408\\AppData\\Local\\Temp\\tmpmllqptav\\assets\n"
     ]
    },
    {
     "name": "stderr",
     "output_type": "stream",
     "text": [
      "INFO:tensorflow:Assets written to: C:\\Users\\zz408\\AppData\\Local\\Temp\\tmpmllqptav\\assets\n"
     ]
    },
    {
     "name": "stdout",
     "output_type": "stream",
     "text": [
      "input:  <class 'numpy.float32'> [ 1 10 10 16]\n",
      "output0:  <class 'numpy.float32'> [ 1 10]\n",
      "output1:  <class 'numpy.float32'> [ 1  5  5 16]\n",
      "4/4 [==============================] - 0s 2ms/step\n",
      "WARNING:tensorflow:No training configuration found in the save file, so the model was *not* compiled. Compile it manually.\n"
     ]
    },
    {
     "name": "stderr",
     "output_type": "stream",
     "text": [
      "WARNING:tensorflow:No training configuration found in the save file, so the model was *not* compiled. Compile it manually.\n",
      "WARNING:absl:Function `_wrapped_model` contains input name(s) S4_params with unsupported characters which will be renamed to s4_params in the SavedModel.\n"
     ]
    },
    {
     "name": "stdout",
     "output_type": "stream",
     "text": [
      "INFO:tensorflow:Assets written to: C:\\Users\\zz408\\AppData\\Local\\Temp\\tmpf9sbdxiu\\assets\n"
     ]
    },
    {
     "name": "stderr",
     "output_type": "stream",
     "text": [
      "INFO:tensorflow:Assets written to: C:\\Users\\zz408\\AppData\\Local\\Temp\\tmpf9sbdxiu\\assets\n"
     ]
    },
    {
     "name": "stdout",
     "output_type": "stream",
     "text": [
      "input:  <class 'numpy.float32'> [ 1  5  5 16]\n",
      "output0:  <class 'numpy.float32'> [ 1 10]\n",
      "output1:  <class 'numpy.float32'> [  1 120]\n",
      "4/4 [==============================] - 0s 1ms/step\n",
      "WARNING:tensorflow:No training configuration found in the save file, so the model was *not* compiled. Compile it manually.\n"
     ]
    },
    {
     "name": "stderr",
     "output_type": "stream",
     "text": [
      "WARNING:tensorflow:No training configuration found in the save file, so the model was *not* compiled. Compile it manually.\n",
      "WARNING:absl:Function `_wrapped_model` contains input name(s) F5_params with unsupported characters which will be renamed to f5_params in the SavedModel.\n"
     ]
    },
    {
     "name": "stdout",
     "output_type": "stream",
     "text": [
      "INFO:tensorflow:Assets written to: C:\\Users\\zz408\\AppData\\Local\\Temp\\tmp01qbtas1\\assets\n"
     ]
    },
    {
     "name": "stderr",
     "output_type": "stream",
     "text": [
      "INFO:tensorflow:Assets written to: C:\\Users\\zz408\\AppData\\Local\\Temp\\tmp01qbtas1\\assets\n"
     ]
    },
    {
     "name": "stdout",
     "output_type": "stream",
     "text": [
      "input:  <class 'numpy.float32'> [  1 120]\n",
      "output0:  <class 'numpy.float32'> [ 1 10]\n",
      "4/4 [==============================] - 0s 2ms/step\n"
     ]
    }
   ],
   "source": [
    "(train_images, train_labels), (test_images, test_labels) = tf.keras.datasets.mnist.load_data()\n",
    "# Normalize the input image so that each pixel value is between 0 to 1.\n",
    "train_images = train_images[0:100,:,:]\n",
    "train_images = np.pad(train_images,[[0,0],[2,2],[2,2]],\"constant\",constant_values=0)\n",
    "train_images = np.expand_dims(train_images,-1)\n",
    "train_images = train_images.astype(np.float32) / 255.0\n",
    "print(type(train_images), train_images.shape)\n",
    "\n",
    "def representative_data_gen():\n",
    "    global train_images\n",
    "    for data in tf.data.Dataset.from_tensor_slices(train_images).batch(1).take(100):\n",
    "        yield [data]\n",
    "        \n",
    "for i in range(1,7):    \n",
    "    model = tf.keras.models.load_model(f\"./Models/Exit_Model_{i}.h5\")\n",
    "    converter = tf.lite.TFLiteConverter.from_keras_model(model)\n",
    "    converter.optimizations = [tf.lite.Optimize.DEFAULT]\n",
    "    converter.representative_dataset = representative_data_gen\n",
    "    converter.target_spec.supported_types = [tf.float16]\n",
    "\n",
    "    tflite_model_float16 = converter.convert()\n",
    "    tflite_model_file = Path(f\"./TFLITE_Models/Float16_Models/Exit_Model_{i}.tflite\") \n",
    "    tflite_model_file.write_bytes(tflite_model_float16)\n",
    "\n",
    "    interpreter = tf.lite.Interpreter(model_content=tflite_model_float16)\n",
    "    input_type = interpreter.get_input_details()#[0]['dtype']\n",
    "    print('input: ', input_type[0]['dtype'],input_type[0]['shape'])\n",
    "    output_type = interpreter.get_output_details()#[0]['dtype']\n",
    "    print('output0: ', output_type[0]['dtype'],output_type[0]['shape'])\n",
    "    try:\n",
    "        print('output1: ', output_type[1]['dtype'],output_type[1]['shape'])\n",
    "        predict, train_images = model.predict(train_images)\n",
    "    except IndexError:\n",
    "        predict = model.predict(train_images)\n"
   ]
  },
  {
   "attachments": {},
   "cell_type": "markdown",
   "metadata": {},
   "source": [
    "半精度浮點數模型測試"
   ]
  },
  {
   "cell_type": "code",
   "execution_count": 11,
   "metadata": {},
   "outputs": [
    {
     "name": "stdout",
     "output_type": "stream",
     "text": [
      "test_images accuracy is 88.42%\n"
     ]
    }
   ],
   "source": [
    "(train_images, train_labels), (test_images, test_labels) = tf.keras.datasets.mnist.load_data()\n",
    "train_images = np.pad(train_images,[[0,0],[2,2],[2,2]],\"constant\",constant_values=0)\n",
    "train_images = np.expand_dims(train_images,-1)\n",
    "train_images = train_images.astype(np.float32) / 255.0\n",
    "# print(train_images.dtype)\n",
    "\n",
    "test_images = np.pad(test_images,[[0,0],[2,2],[2,2]],\"constant\",constant_values=0)\n",
    "test_images = np.expand_dims(test_images,-1)\n",
    "test_images = test_images.astype(np.float32) / 255.0\n",
    "# print(train_images.dtype)\n",
    "\n",
    "def evaluate(interpreter_path):\n",
    "    #加载模型并分配张量\n",
    "    interpreter = tf.lite.Interpreter(model_path=interpreter_path)\n",
    "    interpreter.allocate_tensors()\n",
    "\n",
    "    #获得输入输出张量.\n",
    "    input_details = interpreter.get_input_details()\n",
    "    output_details = interpreter.get_output_details()\n",
    "\n",
    "    index = input_details[0]['index']\n",
    "    shape = input_details[0]['shape']\n",
    "    acc_count = 0\n",
    "    image_count = test_images.shape[0]\n",
    "    for i in range(image_count):\n",
    "        interpreter.set_tensor(index, test_images[i].reshape(shape).astype(\"float32\"))\n",
    "        interpreter.invoke()\n",
    "        output_data = interpreter.get_tensor(output_details[0]['index'])\n",
    "        label = np.argmax(output_data)\n",
    "        if label == test_labels[i]:\n",
    "            acc_count += 1\n",
    "    print(\"test_images accuracy is {:.2%}\".format(acc_count/(image_count)))\n",
    "\n",
    "evaluate(\"./TFLITE_Models/Float16_Models/Exit_Model_1.tflite\")"
   ]
  }
 ],
 "metadata": {
  "kernelspec": {
   "display_name": "labuse",
   "language": "python",
   "name": "python3"
  },
  "language_info": {
   "codemirror_mode": {
    "name": "ipython",
    "version": 3
   },
   "file_extension": ".py",
   "mimetype": "text/x-python",
   "name": "python",
   "nbconvert_exporter": "python",
   "pygments_lexer": "ipython3",
   "version": "3.9.15"
  },
  "orig_nbformat": 4
 },
 "nbformat": 4,
 "nbformat_minor": 2
}
