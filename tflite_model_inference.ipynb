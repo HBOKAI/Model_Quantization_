{
 "cells": [
  {
   "cell_type": "code",
   "execution_count": 1,
   "metadata": {},
   "outputs": [
    {
     "name": "stdout",
     "output_type": "stream",
     "text": [
      "tensorflow version: 2.10.1\n"
     ]
    }
   ],
   "source": [
    "import tensorflow as tf\n",
    "import numpy as np\n",
    "import cv2\n",
    "import time\n",
    "print(f\"tensorflow version: {tf.__version__}\")"
   ]
  },
  {
   "attachments": {},
   "cell_type": "markdown",
   "metadata": {},
   "source": [
    "Preprocess"
   ]
  },
  {
   "cell_type": "code",
   "execution_count": 2,
   "metadata": {},
   "outputs": [],
   "source": [
    "(train_images, train_labels), (test_images, test_labels) = tf.keras.datasets.mnist.load_data()\n",
    "train_images = np.pad(train_images,[[0,0],[2,2],[2,2]],\"constant\",constant_values=0)\n",
    "train_images = np.expand_dims(train_images,-1)\n",
    "train_images = train_images.astype(np.float32) / 255.0\n",
    "# print(train_images.dtype)\n",
    "\n",
    "test_images = np.pad(test_images,[[0,0],[2,2],[2,2]],\"constant\",constant_values=0)\n",
    "test_images = np.expand_dims(test_images,-1)\n",
    "test_images = test_images.astype(np.float32) / 255.0\n",
    "# print(train_images.dtype)"
   ]
  },
  {
   "attachments": {},
   "cell_type": "markdown",
   "metadata": {},
   "source": [
    "CALL MODEL"
   ]
  },
  {
   "cell_type": "code",
   "execution_count": 13,
   "metadata": {},
   "outputs": [
    {
     "name": "stdout",
     "output_type": "stream",
     "text": [
      "(1, 32, 32, 1) float32\n"
     ]
    },
    {
     "data": {
      "text/plain": [
       "'\\nprint(\"第一層\")\\npredict, params = call(f\"./TFLITE_Models/float16_Models/Exit_Model_1.tflite\", img)\\nif(np.max(predict,-1)>=0.9):\\n    print(f\"預測數字: {np.argmax(predict,-1)}\")\\nelse:\\n    print(f\"最大softmax: {np.max(predict,-1)}\")\\n    print(\"第二層\")\\n    predict, params = call(f\"./TFLITE_Models/float16_Models/Exit_Model_2.tflite\", params)\\n    if(np.max(predict,-1)>=0.9):\\n        print(f\"預測數字: {np.argmax(predict,-1)}\")\\n    else:\\n        print(f\"最大softmax: {np.max(predict,-1)}\")\\n        print(\"第三層\")\\n        predict, params = call(f\"./TFLITE_Models/float16_Models/Exit_Model_3.tflite\", params)\\n        if(np.max(predict,-1)>=0.9):\\n            print(f\"預測數字: {np.argmax(predict,-1)}\")\\n        else:\\n            print(f\"最大softmax: {np.max(predict,-1)}\")\\n            print(\"第四層\")\\n            predict, params = call(f\"./TFLITE_Models/float16_Models/Exit_Model_4.tflite\", params)\\n            if(np.max(predict,-1)>=0.9):\\n                print(f\"預測數字: {np.argmax(predict,-1)}\")\\n            else:\\n                print(f\"最大softmax: {np.max(predict,-1)}\")\\n                print(\"第五層\")\\n                predict, params = call(f\"./TFLITE_Models/float16_Models/Exit_Model_5.tflite\", params)\\n                if(np.max(predict,-1)>=0.9):\\n                    print(f\"預測數字: {np.argmax(predict,-1)}\")\\n                else:\\n                    print(f\"最大softmax: {np.max(predict,-1)}\")\\n                    print(\"第六層\")\\n                    predict, params = call(f\"./TFLITE_Models/float16_Models/Exit_Model_6.tflite\", params)\\n                    print(f\"預測數字: {np.argmax(predict,-1)}\")'"
      ]
     },
     "execution_count": 13,
     "metadata": {},
     "output_type": "execute_result"
    }
   ],
   "source": [
    "def call(interpreter_path,img):\n",
    "    #加载模型并分配张量\n",
    "    interpreter = tf.lite.Interpreter(model_path=interpreter_path)\n",
    "    interpreter.allocate_tensors()\n",
    "\n",
    "    #获得输入输出张量.\n",
    "    input_details = interpreter.get_input_details()\n",
    "    output_details = interpreter.get_output_details()\n",
    "    # print(output_details)\n",
    "    index = input_details[0]['index']\n",
    "    shape = input_details[0]['shape']\n",
    "    # print(\"當前輸入圖片格式: \",img.shape)\n",
    "    # print(\"當前輸入圖片所需格式: \",shape)\n",
    "    interpreter.set_tensor(index, img.reshape(shape).astype(\"float32\"))\n",
    "    interpreter.invoke()\n",
    "    if output_details[0]['shape'].shape==(2,) and output_details[0]['shape'][1]==10:\n",
    "        predict = interpreter.get_tensor(output_details[0]['index'])\n",
    "        try:\n",
    "            params = interpreter.get_tensor(output_details[1]['index'])\n",
    "            return predict,params\n",
    "        except IndexError:\n",
    "            return predict,0\n",
    "    else:\n",
    "        predict = interpreter.get_tensor(output_details[1]['index'])\n",
    "        params = interpreter.get_tensor(output_details[0]['index'])\n",
    "        return predict,params\n",
    "\n",
    "# img = cv2.imread(\"./images/gray.png\",-1)\n",
    "# img = np.expand_dims(img,-1)\n",
    "# img = np.expand_dims(img,0)\n",
    "# img = img.astype(np.float32)/255.0\n",
    "# print(img.shape,img.dtype)\n",
    "\n",
    "def model_call(folder_address,img):\n",
    "    start_time=np.zeros(7)\n",
    "    end_time=np.zeros(7)\n",
    "    for i in range(1,7):\n",
    "        print(f\"第{i}層\")\n",
    "        if i == 1:\n",
    "            start_time[i] = time.perf_counter()\n",
    "            predict, params = call(f\"{folder_address}/Exit_Model_{i}.tflite\", img)\n",
    "            end_time[i] = time.perf_counter()\n",
    "            \n",
    "        else:\n",
    "            start_time[i] = time.perf_counter()\n",
    "            predict, params = call(f\"{folder_address}/Exit_Model_{i}.tflite\", params)\n",
    "            end_time[i] = time.perf_counter()\n",
    "            \n",
    "        max_softmax = np.max(predict,-1)\n",
    "        predict_num = np.argmax(predict,-1)\n",
    "        print(f\"最大softmax: {max_softmax},  此層運算時間: {(end_time[i]-start_time[i])*1000}ms\")\n",
    "        print(f\"預測數字: {predict_num}\")\n",
    "        if(max_softmax>=0.9):\n",
    "            break      \n",
    "    print(f\"總運算時間: {(end_time.sum()-start_time.sum())*1000}ms\")\n",
    "    return predict_num\n"
   ]
  },
  {
   "attachments": {},
   "cell_type": "markdown",
   "metadata": {},
   "source": [
    "手寫識別測試"
   ]
  },
  {
   "cell_type": "code",
   "execution_count": 14,
   "metadata": {},
   "outputs": [
    {
     "name": "stdout",
     "output_type": "stream",
     "text": [
      "第1層\n",
      "最大softmax: [0.9743128],  此層運算時間: 0.8232999999790991ms\n",
      "預測數字: [3]\n",
      "總運算時間: 0.8232999999790991ms\n",
      "\n",
      "\n",
      "第1層\n",
      "最大softmax: [0.99220794],  此層運算時間: 0.9463999999752559ms\n",
      "預測數字: [8]\n",
      "總運算時間: 0.9463999999752559ms\n",
      "\n",
      "\n",
      "第1層\n",
      "最大softmax: [0.9814026],  此層運算時間: 0.8532000000514017ms\n",
      "預測數字: [3]\n",
      "總運算時間: 0.8532000000514017ms\n",
      "\n",
      "\n",
      "第1層\n",
      "最大softmax: [0.79027885],  此層運算時間: 1.025500000082502ms\n",
      "預測數字: [1]\n",
      "第2層\n",
      "最大softmax: [0.5689121],  此層運算時間: 0.3533999999945081ms\n",
      "預測數字: [0]\n",
      "第3層\n",
      "最大softmax: [0.88116044],  此層運算時間: 0.3407000000379412ms\n",
      "預測數字: [1]\n",
      "第4層\n",
      "最大softmax: [0.81716776],  此層運算時間: 0.2705000000560176ms\n",
      "預測數字: [1]\n",
      "第5層\n",
      "最大softmax: [0.7229139],  此層運算時間: 0.4177000000709086ms\n",
      "預測數字: [1]\n",
      "第6層\n",
      "最大softmax: [0.56967276],  此層運算時間: 0.3656999999748223ms\n",
      "預測數字: [1]\n",
      "總運算時間: 2.773499999420892ms\n",
      "\n",
      "\n",
      "第1層\n",
      "最大softmax: [0.9660375],  此層運算時間: 0.7163999999875159ms\n",
      "預測數字: [2]\n",
      "總運算時間: 0.7163999999875159ms\n",
      "\n",
      "\n",
      "第1層\n",
      "最大softmax: [0.99048257],  此層運算時間: 0.8187999999336171ms\n",
      "預測數字: [8]\n",
      "總運算時間: 0.8187999999336171ms\n",
      "\n",
      "\n",
      "第1層\n",
      "最大softmax: [0.7365499],  此層運算時間: 0.9037999999463864ms\n",
      "預測數字: [9]\n",
      "第2層\n",
      "最大softmax: [0.6258156],  此層運算時間: 0.3893000000516622ms\n",
      "預測數字: [9]\n",
      "第3層\n",
      "最大softmax: [0.732224],  此層運算時間: 0.3924999999753709ms\n",
      "預測數字: [9]\n",
      "第4層\n",
      "最大softmax: [0.8891832],  此層運算時間: 0.27309999995850376ms\n",
      "預測數字: [9]\n",
      "第5層\n",
      "最大softmax: [0.99206114],  此層運算時間: 0.3942999999253516ms\n",
      "預測數字: [9]\n",
      "總運算時間: 2.3530000007667695ms\n",
      "\n",
      "\n",
      "第1層\n",
      "最大softmax: [0.6163805],  此層運算時間: 0.8927000000085172ms\n",
      "預測數字: [6]\n",
      "第2層\n",
      "最大softmax: [0.63055044],  此層運算時間: 0.4308000000037282ms\n",
      "預測數字: [6]\n",
      "第3層\n",
      "最大softmax: [0.9692675],  此層運算時間: 0.40539999997690757ms\n",
      "預測數字: [8]\n",
      "總運算時間: 1.7289000002165267ms\n",
      "\n",
      "\n"
     ]
    },
    {
     "ename": "KeyboardInterrupt",
     "evalue": "",
     "output_type": "error",
     "traceback": [
      "\u001b[1;31m---------------------------------------------------------------------------\u001b[0m",
      "\u001b[1;31mKeyboardInterrupt\u001b[0m                         Traceback (most recent call last)",
      "Cell \u001b[1;32mIn[14], line 26\u001b[0m\n\u001b[0;32m     24\u001b[0m cv2\u001b[39m.\u001b[39mimshow(\u001b[39m'\u001b[39m\u001b[39mimg\u001b[39m\u001b[39m'\u001b[39m, draw)\n\u001b[0;32m     25\u001b[0m cv2\u001b[39m.\u001b[39msetMouseCallback(\u001b[39m'\u001b[39m\u001b[39mimg\u001b[39m\u001b[39m'\u001b[39m, show_xy)\n\u001b[1;32m---> 26\u001b[0m keyboard \u001b[39m=\u001b[39m cv2\u001b[39m.\u001b[39;49mwaitKey(\u001b[39m5\u001b[39;49m)                    \u001b[39m# 每 5 毫秒偵測一次鍵盤事件\u001b[39;00m\n\u001b[0;32m     27\u001b[0m \u001b[39mif\u001b[39;00m keyboard \u001b[39m==\u001b[39m \u001b[39mord\u001b[39m(\u001b[39m'\u001b[39m\u001b[39mq\u001b[39m\u001b[39m'\u001b[39m):\n\u001b[0;32m     28\u001b[0m     \u001b[39mbreak\u001b[39;00m                                    \u001b[39m# 按下 q 就跳出\u001b[39;00m\n",
      "\u001b[1;31mKeyboardInterrupt\u001b[0m: "
     ]
    }
   ],
   "source": [
    "def show_xy(event,x,y,flags,param):\n",
    "    global dots, draw,img_gray                    # 定義全域變數\n",
    "    if flags == 1:\n",
    "        if event == 1:\n",
    "            dots.append([x,y])            # 如果拖曳滑鼠剛開始，記錄第一點座標\n",
    "        if event == 4:\n",
    "            dots = []                     # 如果放開滑鼠，清空串列內容\n",
    "        if event == 0 or event == 4:\n",
    "            dots.append([x,y])            # 拖曳滑鼠時，不斷記錄座標\n",
    "            x1 = dots[len(dots)-2][0]     # 取得倒數第二個點的 x 座標\n",
    "            y1 = dots[len(dots)-2][1]     # 取得倒數第二個點的 y 座標\n",
    "            x2 = dots[len(dots)-1][0]     # 取得倒數第一個點的 x 座標\n",
    "            y2 = dots[len(dots)-1][1]     # 取得倒數第一個點的 y 座標\n",
    "            cv2.line(draw,(x1,y1),(x2,y2),(255,255,255),20)  # 畫直線\n",
    "        cv2.imshow('img', draw)#draw\n",
    "\n",
    "\n",
    "dots = []   # 建立空陣列記錄座標\n",
    "w = 320\n",
    "h = 320\n",
    "draw = np.zeros((h,w,3), dtype='uint8')   # 建立 420x240 的 RGBA 黑色畫布\n",
    "\n",
    "while True:\n",
    "    cv2.imshow('img', draw)\n",
    "    cv2.setMouseCallback('img', show_xy)\n",
    "    keyboard = cv2.waitKey(5)                    # 每 5 毫秒偵測一次鍵盤事件\n",
    "    if keyboard == ord('q'):\n",
    "        break                                    # 按下 q 就跳出\n",
    "\n",
    "    if keyboard == ord('n'):\n",
    "        img_gray = cv2.cvtColor(draw, cv2.COLOR_BGR2GRAY)   # 轉為灰度圖\n",
    "        img = cv2.resize(img_gray,(32,32))                          # 變更圖片尺寸\n",
    "        cv2.imwrite(\".\\images\\gray.png\",img)\n",
    "        img = img/255\n",
    "        img = np.expand_dims(img,0)\n",
    "        img = np.expand_dims(img,-1)\n",
    "        \n",
    "        model_call(\"./TFLITE_Models/float16_Models\",img)\n",
    "        print(\"\\n\")\n",
    "        draw = np.zeros((h,w,3), dtype='uint8')\n",
    "    if keyboard == ord('r'):\n",
    "        draw = np.zeros((h,w,3), dtype='uint8')  # 按下 r 就變成原本全黑的畫布\n",
    "        cv2.imshow('img', draw)"
   ]
  },
  {
   "attachments": {},
   "cell_type": "markdown",
   "metadata": {},
   "source": [
    "計時方式測試"
   ]
  },
  {
   "cell_type": "code",
   "execution_count": null,
   "metadata": {},
   "outputs": [],
   "source": [
    "\"\"\"aa = time.time()\n",
    "for i in range(1,1000000):\n",
    "    i += i*i*i\n",
    "aa1= time.time()\n",
    "elapsed_time = aa1-aa\n",
    "print(f\"Elapsed time: {elapsed_time} seconds\")\n",
    "\n",
    "aa = time.perf_counter()\n",
    "for i in range(1,1000000):\n",
    "    i += i*i*i\n",
    "aa1= time.perf_counter()\n",
    "elapsed_time = aa1-aa\n",
    "print(f\"Elapsed time: {elapsed_time} seconds\")\n",
    "\n",
    "aa = time.process_time()\n",
    "for i in range(1,1000000):\n",
    "    i += i*i*i\n",
    "aa1= time.process_time()\n",
    "elapsed_time = aa1-aa\n",
    "print(f\"Elapsed time: {elapsed_time} seconds\")\"\"\""
   ]
  },
  {
   "attachments": {},
   "cell_type": "markdown",
   "metadata": {},
   "source": [
    "各模型準確度評估"
   ]
  },
  {
   "cell_type": "code",
   "execution_count": null,
   "metadata": {},
   "outputs": [],
   "source": []
  },
  {
   "cell_type": "code",
   "execution_count": null,
   "metadata": {},
   "outputs": [],
   "source": []
  }
 ],
 "metadata": {
  "kernelspec": {
   "display_name": "labuse",
   "language": "python",
   "name": "python3"
  },
  "language_info": {
   "codemirror_mode": {
    "name": "ipython",
    "version": 3
   },
   "file_extension": ".py",
   "mimetype": "text/x-python",
   "name": "python",
   "nbconvert_exporter": "python",
   "pygments_lexer": "ipython3",
   "version": "3.9.15"
  },
  "orig_nbformat": 4
 },
 "nbformat": 4,
 "nbformat_minor": 2
}
